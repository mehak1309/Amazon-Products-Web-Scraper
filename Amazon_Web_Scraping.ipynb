{
  "cells": [
    {
      "cell_type": "code",
      "execution_count": null,
      "metadata": {
        "id": "AgnUDPDsV29P"
      },
      "outputs": [],
      "source": [
        "!pip install requests\n",
        "!pip install html5lib\n",
        "!pip install bs4"
      ]
    },
    {
      "cell_type": "code",
      "execution_count": 2,
      "metadata": {
        "id": "eIGr6sUEVtbi"
      },
      "outputs": [],
      "source": [
        "import pandas\n",
        "import numpy\n",
        "import requests\n",
        "from bs4 import BeautifulSoup"
      ]
    },
    {
      "cell_type": "code",
      "execution_count": 5,
      "metadata": {},
      "outputs": [],
      "source": [
        "d = {}"
      ]
    },
    {
      "cell_type": "code",
      "execution_count": 12,
      "metadata": {
        "colab": {
          "base_uri": "https://localhost:8080/"
        },
        "id": "VJaIZRUNlOeb",
        "outputId": "bbdf7e3c-278a-459c-c5d1-1fbc5e9a364f"
      },
      "outputs": [],
      "source": [
        "def scraper(url):\n",
        "  if url in d:\n",
        "    pass\n",
        "  else:\n",
        "    d[url]={\"Title\":0, \"Availability\": 0, \"Buy Box Holder\": 0, \"Price\":0, \"MRP\":0, \"Shipping Charge\":0, \"FBA/MFN\":0, \"DOTD\":0, \"LD\":0}\n",
        "\n",
        "  HEADERS = {'User-Agent': ('Mozilla/5.0 (X11; Linux x86_64)'\n",
        "                    'AppleWebKit/537.36 (KHTML, like Gecko)'\n",
        "                    'Chrome/44.0.2403.157 Safari/537.36'),\n",
        "             'Accept-Language': 'en-US, en;q=0.5'}\n",
        "\n",
        "  html = requests.get(url, headers=HEADERS)\n",
        "  soup = BeautifulSoup(html.text)\n",
        "\n",
        "  #Title\n",
        "  try:\n",
        "    title = soup.find('span', {'id':\"productTitle\"}).text.strip()\n",
        "    Title = title\n",
        "    print(\"Title:\", title)\n",
        "  except:\n",
        "    print(\"Title:\", \"NA\")\n",
        "  d[url][\"Title\"] = Title\n",
        "\n",
        "  #Availability\n",
        "  try:\n",
        "    available = soup.find(\"div\", attrs={'id': 'availability'})\n",
        "    available = available.find(\"span\").string.strip().replace(',', '')\n",
        "    Available = available\n",
        "    if Available!=\"\":\n",
        "      print(\"Availability:\", Available)\n",
        "    elif Available==\"\":\n",
        "      Available = \"NA\"\n",
        "      print(\"Availability:\", Available)\n",
        "  except:\n",
        "    Available = \"NA\"\n",
        "    print(\"Availability:\", \"NA\")\n",
        "  d[url][\"Availability\"] = Available\n",
        "\n",
        "  #Buy Box Holder\n",
        "  try:\n",
        "    bbh = soup.find(\"input\", attrs={\"id\": \"buy-now-button\"})\n",
        "    print(\"Buy Box Holder:\", True)\n",
        "    BBH = True\n",
        "  except:\n",
        "    BBH = False\n",
        "    print(\"Buy Box Holder:\", False)\n",
        "  d[url][\"Buy Box Holder\"] = BBH\n",
        "\n",
        "  #Price\n",
        "  try:\n",
        "    price = soup.find('span', {'class':\"a-price-whole\"}).text.strip()\n",
        "    Price = float(price)\n",
        "    print(\"Price:\", float(price))\n",
        "  except:\n",
        "    Price = \"NA\"\n",
        "    print(\"Price:\", \"NA\")\n",
        "  d[url][\"Price\"] = Price\n",
        "\n",
        "  #MRP\n",
        "  try:\n",
        "    mrp = soup.find('span', {\"class\":\"a-price a-text-price\"})\n",
        "    mrp = mrp.find(\"span\").string.strip()[1:].replace(\",\",\"\")\n",
        "    MRP = float(mrp)\n",
        "    print(\"MRP:\", float(mrp))\n",
        "  except:\n",
        "    MRP = \"NA\"\n",
        "    print(\"MRP:\", \"NA\")\n",
        "  d[url][\"MRP\"] = MRP\n",
        "\n",
        "  #Shipping Charge\n",
        "  try:\n",
        "    sc = soup.find(\"span\", {\"data-csa-c-type\":\"element\"})\n",
        "    sc = sc.find(\"a\", {\"class\":\"a-link-normal\"}).text.strip()\n",
        "    SC = sc\n",
        "    print(\"Shipping Charge:\", sc)\n",
        "  except:\n",
        "    SC = \"NA\"\n",
        "    print(\"Shipping Charge:\", \"NA\")\n",
        "  d[url][\"Shipping Charge\"] = SC\n",
        "\n",
        "  #fba/mfn\n",
        "  try:\n",
        "    fba = soup.find(\"a\", {\"class\":\"a-link-normal\", \"href\":\"/gp/help/customer/display.html?ref=dp_fulfillment&nodeId=200953360\"}).text.strip()\n",
        "    if fba==\"Fulfilled by Amazon\":\n",
        "      FBA_MFN = \"FBA\"\n",
        "      print(\"FBA/MFN:\", \"FBA\")\n",
        "  except:\n",
        "    FBA_MFN = \"MFN\"\n",
        "    print(\"FBA/MFN:\", \"MFN\")\n",
        "  d[url][\"FBA/MFN\"] = FBA_MFN\n",
        "\n",
        "\n",
        "  #dotd\n",
        "  try:\n",
        "    ld = soup.find(\"span\", {\"class\":\"dealBadge\"})\n",
        "    ld = ld.find(\"span\").text.strip()\n",
        "    if ld==\"Deal\":\n",
        "      DOTD = True\n",
        "      print(\"DOTD:\", True)\n",
        "  except:\n",
        "    DOTD = False\n",
        "    print(\"DOTD:\", False)\n",
        "  d[url][\"DOTD\"] = DOTD\n",
        "\n",
        "  #ld\n",
        "  try:\n",
        "    ld = soup.find(\"span\", {\"class\":\"dealBadge\"})\n",
        "    ld = ld.find(\"span\").text.strip()\n",
        "    if ld==\"Lightning Deal\":\n",
        "      LD = True\n",
        "      print(\"LD:\", True)\n",
        "  except:\n",
        "    LD = False\n",
        "    print(\"LD:\", False)\n",
        "  d[url][\"LD\"] = LD\n",
        "\n",
        "  return d"
      ]
    },
    {
      "cell_type": "code",
      "execution_count": 13,
      "metadata": {},
      "outputs": [
        {
          "name": "stdout",
          "output_type": "stream",
          "text": [
            "Title: Kellogg's Chocos Fills 250g | Double Chocolaty, Anytime Snack | 3 Grains: Oats, Wheat & Rice, Protein & Vitamin Rich, 0% Maida | Multigrain Goodness\n",
            "Availability: In stock\n",
            "Buy Box Holder: True\n",
            "Price: 190.0\n",
            "MRP: NA\n",
            "Shipping Charge: FREE delivery\n",
            "FBA/MFN: FBA\n",
            "DOTD: False\n",
            "LD: False\n",
            "{'https://www.amazon.in/Kelloggs-Chocos-Fills-250g/dp/B075YXFCKZ/ref=sr_1_14_sspa?adgrpid=79301491360&ext_vrnc=hi&hvadid=427059611254&hvdev=c&hvlocphy=9040171&hvnetw=g&hvqmt=b&hvrand=15715874638724220914&hvtargid=kwd-296763793866&hydadcr=18010_2007806&keywords=amazon%2Bfresh&qid=1687277262&s=grocery&sr=1-14-spons&sp_csd=d2lkZ2V0TmFtZT1zcF9tdGY&th=1': {'Title': \"Kellogg's Chocos Fills 250g | Double Chocolaty, Anytime Snack | 3 Grains: Oats, Wheat & Rice, Protein & Vitamin Rich, 0% Maida | Multigrain Goodness\", 'Availability': 'In stock', 'Buy Box Holder': True, 'Price': 190.0, 'MRP': 'NA', 'Shipping Charge': 'FREE delivery', 'FBA/MFN': 'FBA', 'DOTD': False, 'LD': False}, 'https://www.amazon.in/HAIJUN-Mobile-Replacement-Wireless-Charging/dp/B07V23XQX3/ref=sr_1_16?crid=MDA7DXUXJP0E&keywords=phone+shipping+charge&qid=1687276384&sprefix=phone+shipping+charg%2Caps%2C290&sr=8-16': {'Title': 'HAIJUN Mobile Phone Replacement Parts Wireless Charging Module for Google Pixel 3 XL Flex Cable', 'Availability': 'NA', 'Buy Box Holder': True, 'Price': 'NA', 'MRP': 'NA', 'Shipping Charge': 'Details', 'FBA/MFN': 'MFN', 'DOTD': False, 'LD': False}}\n"
          ]
        }
      ],
      "source": [
        "d1 = scraper(\"https://www.amazon.in/Kelloggs-Chocos-Fills-250g/dp/B075YXFCKZ/ref=sr_1_14_sspa?adgrpid=79301491360&ext_vrnc=hi&hvadid=427059611254&hvdev=c&hvlocphy=9040171&hvnetw=g&hvqmt=b&hvrand=15715874638724220914&hvtargid=kwd-296763793866&hydadcr=18010_2007806&keywords=amazon%2Bfresh&qid=1687277262&s=grocery&sr=1-14-spons&sp_csd=d2lkZ2V0TmFtZT1zcF9tdGY&th=1\")\n",
        "print(d1)"
      ]
    },
    {
      "cell_type": "code",
      "execution_count": 14,
      "metadata": {
        "colab": {
          "base_uri": "https://localhost:8080/"
        },
        "id": "RXD1ZTUFt4mK",
        "outputId": "6a53eaa6-36f8-4c32-a6c6-d665ba0aca98"
      },
      "outputs": [
        {
          "name": "stdout",
          "output_type": "stream",
          "text": [
            "Title: HAIJUN Mobile Phone Replacement Parts Wireless Charging Module for Google Pixel 3 XL Flex Cable\n",
            "Availability: NA\n",
            "Buy Box Holder: True\n",
            "Price: NA\n",
            "MRP: NA\n",
            "Shipping Charge: Details\n",
            "FBA/MFN: MFN\n",
            "DOTD: False\n",
            "LD: False\n",
            "{'https://www.amazon.in/Kelloggs-Chocos-Fills-250g/dp/B075YXFCKZ/ref=sr_1_14_sspa?adgrpid=79301491360&ext_vrnc=hi&hvadid=427059611254&hvdev=c&hvlocphy=9040171&hvnetw=g&hvqmt=b&hvrand=15715874638724220914&hvtargid=kwd-296763793866&hydadcr=18010_2007806&keywords=amazon%2Bfresh&qid=1687277262&s=grocery&sr=1-14-spons&sp_csd=d2lkZ2V0TmFtZT1zcF9tdGY&th=1': {'Title': \"Kellogg's Chocos Fills 250g | Double Chocolaty, Anytime Snack | 3 Grains: Oats, Wheat & Rice, Protein & Vitamin Rich, 0% Maida | Multigrain Goodness\", 'Availability': 'In stock', 'Buy Box Holder': True, 'Price': 190.0, 'MRP': 'NA', 'Shipping Charge': 'FREE delivery', 'FBA/MFN': 'FBA', 'DOTD': False, 'LD': False}, 'https://www.amazon.in/HAIJUN-Mobile-Replacement-Wireless-Charging/dp/B07V23XQX3/ref=sr_1_16?crid=MDA7DXUXJP0E&keywords=phone+shipping+charge&qid=1687276384&sprefix=phone+shipping+charg%2Caps%2C290&sr=8-16': {'Title': 'HAIJUN Mobile Phone Replacement Parts Wireless Charging Module for Google Pixel 3 XL Flex Cable', 'Availability': 'NA', 'Buy Box Holder': True, 'Price': 'NA', 'MRP': 'NA', 'Shipping Charge': 'Details', 'FBA/MFN': 'MFN', 'DOTD': False, 'LD': False}}\n"
          ]
        }
      ],
      "source": [
        "d2 = scraper(\"https://www.amazon.in/HAIJUN-Mobile-Replacement-Wireless-Charging/dp/B07V23XQX3/ref=sr_1_16?crid=MDA7DXUXJP0E&keywords=phone+shipping+charge&qid=1687276384&sprefix=phone+shipping+charg%2Caps%2C290&sr=8-16\")\n",
        "print(d2)"
      ]
    }
  ],
  "metadata": {
    "colab": {
      "provenance": []
    },
    "kernelspec": {
      "display_name": "Python 3",
      "name": "python3"
    },
    "language_info": {
      "codemirror_mode": {
        "name": "ipython",
        "version": 3
      },
      "file_extension": ".py",
      "mimetype": "text/x-python",
      "name": "python",
      "nbconvert_exporter": "python",
      "pygments_lexer": "ipython3",
      "version": "3.11.4"
    }
  },
  "nbformat": 4,
  "nbformat_minor": 0
}
